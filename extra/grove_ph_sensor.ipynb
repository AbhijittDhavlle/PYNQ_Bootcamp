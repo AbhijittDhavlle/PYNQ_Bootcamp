{
 "cells": [
  {
   "cell_type": "markdown",
   "metadata": {},
   "source": [
    "# Grove PH Sensor Kit\n",
    "\n",
    "This example shows how to use the [Grove PH Sensor Kit](https://wiki.seeedstudio.com/Grove-PH-Sensor-kit/). The Grove PH sensor produces an analog signal, and requires an ADC. \n",
    "\n",
    "A Grove PH sensor and Pynq Grove Adapter, or Pynq Shield is required. The Grove PH Sensor, Pynq Grove Adapter, and Grove I2C ADC are used for this example. \n",
    "\n",
    "Every PH sensor kit requires calibration before use. Before detecting the target solution, the sensor MUST be calibrated by pointed calibration fluid, and it also MUST be put into pointed buffer(PH=7) or clean water before detecting a new kind of solution and swiped.\n",
    "\n",
    "It takes about 30 to 60 seconds for the PH reading to stabilize."
   ]
  },
  {
   "cell_type": "code",
   "execution_count": null,
   "metadata": {},
   "outputs": [],
   "source": [
    "# Initialize\n",
    "\n",
    "from pynq.overlays.base import BaseOverlay\n",
    "from pynq.lib.pmod import Grove_ADC\n",
    "from pynq.lib.pmod import PMOD_GROVE_G4 \n",
    "\n",
    "base = BaseOverlay(\"base.bit\")"
   ]
  },
  {
   "cell_type": "markdown",
   "metadata": {},
   "source": [
    "#### For this example, we use PMODB and GROVE G4 on the Grove Adapter"
   ]
  },
  {
   "cell_type": "code",
   "execution_count": null,
   "metadata": {},
   "outputs": [],
   "source": [
    "grove_adc = Grove_ADC(base.PMODB,PMOD_GROVE_G4)\n",
    "print(\"voltage : {} V\".format(round(grove_adc.read(),4)))"
   ]
  },
  {
   "cell_type": "code",
   "execution_count": null,
   "metadata": {},
   "outputs": [],
   "source": [
    "# Utility functions\n",
    "# https://wiki.seeedstudio.com/Grove-PH-Sensor-kit/\n",
    "\n",
    "def average_data(arr) :\n",
    "  amount = 0\n",
    "  n = len(arr)\n",
    "\n",
    "  if (n < 5) :\n",
    "    return sum(arr) / n\n",
    "  else :\n",
    "    if (arr[0] < arr[1]) :\n",
    "      min = arr[0]\n",
    "      max = arr[1]\n",
    "    else :\n",
    "      min = arr[1]\n",
    "      max = arr[0]\n",
    "    for i in range (2,n) :\n",
    "      if (arr[i] < min) :\n",
    "        amount += min\n",
    "        min = arr[i]\n",
    "      elif (arr[i] > max) : \n",
    "          amount += max\n",
    "          max = arr[i]\n",
    "      else :\n",
    "        amount += arr[i]\n",
    "    avg = amount / (n - 2)\n",
    "  return avg\n",
    "\n",
    "def get_avg_volts(interval, count):\n",
    "    samples= []\n",
    "    for i in range(0, count):\n",
    "        samples.append(round(grove_adc.read(),10))\n",
    "    #print(samples)\n",
    "    return average_data(samples)"
   ]
  },
  {
   "cell_type": "markdown",
   "metadata": {},
   "source": [
    "### Calibration Solution 1\n",
    "\n",
    "Remove the PH sensor, clean it with fresh water and insert in first calibration solution.\n",
    "\n",
    "#### Update variable \"PH1\" to the PH of reference solution 1\n",
    "\n",
    "Wait for 30-60 seconds and run the cell below.\n",
    "It is recommended to run the cell multiple times until V1 value stabilizes.\n",
    "\n",
    "#### IMPORTANT : Run this cell only while calibrating the sensor"
   ]
  },
  {
   "cell_type": "code",
   "execution_count": null,
   "metadata": {},
   "outputs": [],
   "source": [
    "# IMPORTANT : Run this cell only while calibrating the sensor\n",
    "\n",
    "# Calibration solution 1\n",
    "sampling_interval = 0.04\n",
    "num_samples = 100\n",
    "\n",
    "PH1 = 4.00\n",
    "V1 = get_avg_volts(sampling_interval, num_samples)\n",
    "print(\"V1 :\",V1)\n",
    "\n",
    "# Calibrated V1 : 1.589529"
   ]
  },
  {
   "cell_type": "markdown",
   "metadata": {},
   "source": [
    "### Calibration Solution 2\n",
    "\n",
    "Remove the PH sensor, clean it with fresh water and insert in second calibration solution.\n",
    "\n",
    "#### Update variable \"PH2\" to the PH of reference solution 2\n",
    "\n",
    "Wait for 30-60 seconds and run the cell below.\n",
    "It is recommended to run the cell multiple times until V2 value stabilizes.\n",
    "\n",
    "#### IMPORTANT : Run this cell only while calibrating the sensor"
   ]
  },
  {
   "cell_type": "code",
   "execution_count": null,
   "metadata": {},
   "outputs": [],
   "source": [
    "# IMPORTANT : Run this cell only while calibrating the sensor\n",
    "\n",
    "# Calibration solution 2\n",
    "sampling_interval = 0.04\n",
    "num_samples = 100\n",
    "\n",
    "PH2 = 7.00\n",
    "V2 = get_avg_volts(sampling_interval, num_samples)\n",
    "print(\"V2 :\",V2)\n",
    "\n",
    "# Calibrated V2 : 1.45238"
   ]
  },
  {
   "cell_type": "markdown",
   "metadata": {},
   "source": [
    "### Finish Calibration\n",
    "\n",
    "Here we calculate values of K and OFFSET that are later used for PH measurement of unknown solutions.\n",
    "\n",
    "#### IMPORTANT : Run this cell only while calibrating the sensor"
   ]
  },
  {
   "cell_type": "code",
   "execution_count": null,
   "metadata": {},
   "outputs": [],
   "source": [
    "# IMPORTANT : Run this cell only while calibrating the sensor\n",
    "\n",
    "# default values\n",
    "OFFSET = 41.02740741\n",
    "K = -19.18518519\n",
    "\n",
    "# Calibrated values\n",
    "# OFFSET = 38.769407615\n",
    "# K = -21.87402348\n",
    "\n",
    "if not (V2 - V1) :\n",
    "    print(\"Calibration error!\")\n",
    "else :\n",
    "    K = (PH2-PH1)/(V2-V1)\n",
    "    OFFSET =( (PH2+PH1) - K*(V1+V2) )/2\n",
    "    print(\"Offset :\", OFFSET, \" K :\", K)"
   ]
  },
  {
   "cell_type": "markdown",
   "metadata": {},
   "source": [
    "### Measure PH of Unknown Solution\n",
    "\n",
    "Remove the PH sensor, clean it with fresh water and insert in unknown solution. Wait for 30 to 60 seconds and then run this cell.\n",
    "\n",
    "#### IMPORTANT : Run this cell after calibration is complete to get correct results"
   ]
  },
  {
   "cell_type": "code",
   "execution_count": null,
   "metadata": {},
   "outputs": [],
   "source": [
    "# Unknown solution\n",
    "sampling_interval = 0.02\n",
    "num_samples = 40\n",
    "\n",
    "volts = get_avg_volts(sampling_interval, num_samples)\n",
    "ph = round(K * volts + OFFSET,3) ;\n",
    "print(\"V :\", volts, \"PH :\", ph)"
   ]
  }
 ],
 "metadata": {
  "kernelspec": {
   "display_name": "Python 3",
   "language": "python",
   "name": "python3"
  },
  "language_info": {
   "codemirror_mode": {
    "name": "ipython",
    "version": 3
   },
   "file_extension": ".py",
   "mimetype": "text/x-python",
   "name": "python",
   "nbconvert_exporter": "python",
   "pygments_lexer": "ipython3",
   "version": "3.6.5"
  }
 },
 "nbformat": 4,
 "nbformat_minor": 2
}
