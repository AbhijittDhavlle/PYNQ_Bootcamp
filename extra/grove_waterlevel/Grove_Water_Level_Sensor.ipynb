{
 "cells": [
  {
   "cell_type": "markdown",
   "metadata": {},
   "source": [
    "# *Grove Water Level Sensor Notebook*"
   ]
  },
  {
   "cell_type": "markdown",
   "metadata": {},
   "source": [
    "## Overview\n",
    "\n",
    "The Grove Water Level Sensor is used to determine the height of water in a container.  It measures the presence of water in 5 mm increments to 100 mm (20 points).  It utilizes two ATtiny1616 microcontrollers running firmware to detect the water, which is then read by the PYNQ using the inter-integrated circuit (I2C) bus standard and the standard Grove connector.  The PYNQ board acts as the master, requesting data from either of the ATtiny microcontrollers by targeting their I2C address.  Since there are 20 \"water level points,\" one microcontroller measures the lowest 8 points and the other microcontroller measures the 12 highest points.  The I2C address of the lower microcontroller is 0x77 (or 1110111 in binary), and the I2C address of the high microcontroller is 0x78 (or 1111000 in binary).  \n",
    "\n",
    "![picture](images/grove_waterlevel_hardware.jpg)\n",
    "\n",
    "### Helpful Links\n",
    "\n",
    "[Sensor webpage](https://wiki.seeedstudio.com/Grove-Water-Level-Sensor/)\n",
    "\n",
    "[PMOD to Grove adapter webpage](https://store.digilentinc.com/pynq-grove-system-add-on-board/)"
   ]
  },
  {
   "cell_type": "markdown",
   "metadata": {},
   "source": [
    "## Using the Sensor"
   ]
  },
  {
   "cell_type": "markdown",
   "metadata": {},
   "source": [
    "### 1. Load the base Overlay"
   ]
  },
  {
   "cell_type": "code",
   "execution_count": 2,
   "metadata": {},
   "outputs": [
    {
     "data": {
      "application/javascript": [
       "\n",
       "try {\n",
       "require(['notebook/js/codecell'], function(codecell) {\n",
       "  codecell.CodeCell.options_default.highlight_modes[\n",
       "      'magic_text/x-csrc'] = {'reg':[/^%%microblaze/]};\n",
       "  Jupyter.notebook.events.one('kernel_ready.Kernel', function(){\n",
       "      Jupyter.notebook.get_cells().map(function(cell){\n",
       "          if (cell.cell_type == 'code'){ cell.auto_highlight(); } }) ;\n",
       "  });\n",
       "});\n",
       "} catch (e) {};\n"
      ]
     },
     "metadata": {},
     "output_type": "display_data"
    },
    {
     "data": {
      "application/javascript": [
       "\n",
       "try {\n",
       "require(['notebook/js/codecell'], function(codecell) {\n",
       "  codecell.CodeCell.options_default.highlight_modes[\n",
       "      'magic_text/x-csrc'] = {'reg':[/^%%pybind11/]};\n",
       "  Jupyter.notebook.events.one('kernel_ready.Kernel', function(){\n",
       "      Jupyter.notebook.get_cells().map(function(cell){\n",
       "          if (cell.cell_type == 'code'){ cell.auto_highlight(); } }) ;\n",
       "  });\n",
       "});\n",
       "} catch (e) {};\n"
      ]
     },
     "metadata": {},
     "output_type": "display_data"
    }
   ],
   "source": [
    "from pynq.overlays.base import BaseOverlay\n",
    "base = BaseOverlay(\"base.bit\")"
   ]
  },
  {
   "cell_type": "markdown",
   "metadata": {},
   "source": [
    "### 2. Create the Python class so we can get data from the sensor\n",
    " - Since I2C is a very common standard, we *extend* our class from the Pmod_IIC class\n",
    " - This class adds some basic value checking and convenience functions specific to the sensor"
   ]
  },
  {
   "cell_type": "code",
   "execution_count": 3,
   "metadata": {},
   "outputs": [],
   "source": [
    "from pynq.lib.pmod import PMOD_GROVE_G3\n",
    "from pynq.lib.pmod import PMOD_GROVE_G4\n",
    "from pynq.lib import Pmod_IIC\n",
    "\n",
    "class Python_Grove_WaterLevel(Pmod_IIC):\n",
    "    \"\"\"This class controls the Grove Water Level Sensor.\n",
    "    \n",
    "    This class inherits from the PMODIIC class.\n",
    "    \n",
    "    Attributes\n",
    "    ----------\n",
    "    iop : _IOP\n",
    "        The _IOP object returned from the DevMode.\n",
    "    scl_pin : int\n",
    "        The SCL pin number.\n",
    "    sda_pin : int\n",
    "        The SDA pin number.\n",
    "    iic_addr : int\n",
    "        The IIC device address.\n",
    "    \n",
    "    \"\"\"\n",
    "    def __init__(self, pmod_id, gr_pins, addr): \n",
    "        \"\"\"Return a new instance of a Grove Water Level Sensor object. \n",
    "        \n",
    "        Parameters\n",
    "        ----------\n",
    "        pmod_id : int\n",
    "            The PMOD ID (1, 2) corresponding to (PMODA, PMODB).\n",
    "        gr_pins : list\n",
    "            Adapter pins selected.\n",
    "        addr : int\n",
    "            I2C addresses of the sensor (0x77, 0x78)\n",
    "        \"\"\"\n",
    "        if gr_pins in [PMOD_GROVE_G3, PMOD_GROVE_G4]:\n",
    "            [scl_pin,sda_pin] = gr_pins\n",
    "        else:\n",
    "            raise ValueError(\"Valid Grove Pins are on G3 or G4.\")\n",
    "        if addr not in [0x77, 0x78]:\n",
    "            raise ValueError(\"Valid I2C addresses are 0x77 or 0x78\")\n",
    "        \n",
    "        super().__init__(pmod_id, scl_pin, sda_pin, addr)\n",
    "        \n",
    "        \n",
    "    def read(self, num_bytes):\n",
    "        \"\"\"If targeting low ATtiny microcontroller, can only read the first 1 to 8 bytes (water level points) \n",
    "           If targeting high ATtiny microcontroller, can only read the highest 9 to 20 bytes (water level points)\n",
    "        \n",
    "        Parameters\n",
    "        ----------\n",
    "        num_bytes : int\n",
    "            Will perform value checking to make sure we don't try to read too many bytes\n",
    "        \n",
    "        Returns\n",
    "        -------\n",
    "        list :\n",
    "            Water level bytes at the requested points\n",
    "        \n",
    "        \"\"\"\n",
    "        if self.iic_addr == 0x77:\n",
    "            if num_bytes == 0 or num_bytes > 8:\n",
    "                raise ValueError(\"Can only request to get 1-8 water points on low object\")\n",
    "        else:\n",
    "            if num_bytes == 0 or num_bytes > 12:\n",
    "                raise ValueError(\"Can only request to get 1-12 water points on high object\")\n",
    "        self.send([0])\n",
    "        bytes = self.receive(num_bytes)\n",
    "        return bytes "
   ]
  },
  {
   "cell_type": "markdown",
   "metadata": {},
   "source": [
    "### 3. Create two objects, one to read the lowest water points and another to read the highest water points\n",
    " - When the objects are created, the arguments to the class constructor tell the PYNQ we are using PMODB connector on the PYNQ board, we are choosing the G3 connector on the PMOD to Grove adapter board, and the I2C address (0x77 or 0x78)"
   ]
  },
  {
   "cell_type": "code",
   "execution_count": 4,
   "metadata": {},
   "outputs": [],
   "source": [
    "from pynq.lib.pmod import PMOD_GROVE_G3\n",
    "wls_hi = Python_Grove_WaterLevel(base.PMODB, PMOD_GROVE_G3, 0x78)\n",
    "wls_lo = Python_Grove_WaterLevel(base.PMODB, PMOD_GROVE_G3, 0x77)"
   ]
  },
  {
   "cell_type": "markdown",
   "metadata": {},
   "source": [
    "### 4. Read data from the sensor using the objects we created\n",
    " - Since the sensor is capacitive, it returns a byte for each point that contains the value 0-255\n",
    " - We can merge the data from the two objects to get a better representation of the data on the sensor"
   ]
  },
  {
   "cell_type": "code",
   "execution_count": 5,
   "metadata": {},
   "outputs": [
    {
     "name": "stdout",
     "output_type": "stream",
     "text": [
      "Low bytes : [249, 249, 249, 249, 249, 249, 249, 249]\n",
      "High bytes : [249, 249, 248, 0, 0, 0, 0, 0, 0, 0, 0, 0]\n",
      "Sensor bytes : [249, 249, 249, 249, 249, 249, 249, 249, 249, 249, 248, 0, 0, 0, 0, 0, 0, 0, 0, 0]\n"
     ]
    }
   ],
   "source": [
    "lo_bytes = wls_lo.read(8)\n",
    "print(f\"Low bytes : {lo_bytes}\")\n",
    "hi_bytes = wls_hi.read(12)\n",
    "print(f\"High bytes : {hi_bytes}\")\n",
    "sensor_bytes = lo_bytes + hi_bytes\n",
    "print(f\"Sensor bytes : {sensor_bytes}\")"
   ]
  },
  {
   "cell_type": "markdown",
   "metadata": {},
   "source": [
    "### Helper function\n",
    " - Reading bytes isn't very helpful, let's create a threshold that will tell us if the water point is above that threshold"
   ]
  },
  {
   "cell_type": "code",
   "execution_count": 7,
   "metadata": {},
   "outputs": [
    {
     "name": "stdout",
     "output_type": "stream",
     "text": [
      "[True, True, True, True, True, True, True, True, True, True, True, False, False, False, False, False, False, False, False, False]\n",
      "['Y', 'Y', 'Y', 'Y', 'Y', 'Y', 'Y', 'Y', 'Y', 'Y', 'Y', 'N', 'N', 'N', 'N', 'N', 'N', 'N', 'N', 'N']\n",
      "[1, 1, 1, 1, 1, 1, 1, 1, 1, 1, 1, 0, 0, 0, 0, 0, 0, 0, 0, 0]\n"
     ]
    }
   ],
   "source": [
    "# Water level for each point will be from 0-255\n",
    "threshold = 100\n",
    "# Create a list of \"True\" and \"False\" that corresponds if water is above that threshold value\n",
    "water_present = []\n",
    "for point in sensor_bytes:\n",
    "    water_present.append(point > threshold)\n",
    "print(water_present)\n",
    "# Create a list of \"Y\" and \"N\" that corresponds if water is above that threshold value\n",
    "water_present = []\n",
    "for point in sensor_bytes:\n",
    "    water_present.append(\"Y\" if point > threshold else \"N\")\n",
    "print(water_present)\n",
    "# Create a list of 1 and 0 if water is above that threshold value\n",
    "water_present = []\n",
    "for point in sensor_bytes:\n",
    "    water_present.append(1 if point > threshold else 0)\n",
    "print(water_present)"
   ]
  },
  {
   "cell_type": "markdown",
   "metadata": {},
   "source": [
    "### Helper function\n",
    " - We built a way to say if water is present or not at a water point, let's print how high water is in mm"
   ]
  },
  {
   "cell_type": "code",
   "execution_count": 8,
   "metadata": {
    "scrolled": true
   },
   "outputs": [
    {
     "name": "stdout",
     "output_type": "stream",
     "text": [
      "Water level = 55 mm = 11 points\n"
     ]
    }
   ],
   "source": [
    "water_points = sum(water_present)\n",
    "water_level_mm = water_points*5\n",
    "print(f\"Water level = {water_level_mm} mm = {water_points} points\")"
   ]
  }
 ],
 "metadata": {
  "kernelspec": {
   "display_name": "Python 3",
   "language": "python",
   "name": "python3"
  },
  "language_info": {
   "codemirror_mode": {
    "name": "ipython",
    "version": 3
   },
   "file_extension": ".py",
   "mimetype": "text/x-python",
   "name": "python",
   "nbconvert_exporter": "python",
   "pygments_lexer": "ipython3",
   "version": "3.6.5"
  }
 },
 "nbformat": 4,
 "nbformat_minor": 2
}
