{
 "cells": [
  {
   "cell_type": "markdown",
   "metadata": {},
   "source": [
    "# Displaying Sensor Data on the LED Bar\n",
    "\n",
    "A key concept in computers is taking an input from a sensor, processing that data in a meaningful way, and outputting that to the user in a format that is intuitive and easy to read. This concept can be found in almost every computing system. \n",
    "\n",
    "We are going to create this type of system with our sensors and LED bar. The end product will be a sort of \"digital thermometer\".\n",
    "\n",
    "### This notebook will walk you through using the TH02 sensor\n",
    "\n",
    "If your sensor looks like this, it is a TH02 and you should follow this notebook. If not, you should use the ATH20 sensor notebook [here](temp_ledbar_example_ATH20.ipynb).\n",
    "\n",
    "![TH02](https://files.seeedstudio.com/wiki/Grove-TemptureAndHumidity_Sensor-High-Accuracy_AndMini-v1.0/img/main.jpg)\n",
    "\n",
    "As usual, apply the base overlay to the board:"
   ]
  },
  {
   "cell_type": "code",
   "execution_count": 1,
   "metadata": {},
   "outputs": [
    {
     "data": {
      "application/javascript": [
       "\n",
       "require(['notebook/js/codecell'], function(codecell) {\n",
       "  codecell.CodeCell.options_default.highlight_modes[\n",
       "      'magic_text/x-csrc'] = {'reg':[/^%%microblaze/]};\n",
       "  Jupyter.notebook.events.one('kernel_ready.Kernel', function(){\n",
       "      Jupyter.notebook.get_cells().map(function(cell){\n",
       "          if (cell.cell_type == 'code'){ cell.auto_highlight(); } }) ;\n",
       "  });\n",
       "});\n"
      ]
     },
     "metadata": {},
     "output_type": "display_data"
    }
   ],
   "source": [
    "from pynq.overlays.base import BaseOverlay\n",
    "base = BaseOverlay(\"base.bit\")"
   ]
  },
  {
   "cell_type": "markdown",
   "metadata": {},
   "source": [
    "# 1. Read Temperature Data"
   ]
  },
  {
   "cell_type": "markdown",
   "metadata": {},
   "source": [
    "### Import Libraries"
   ]
  },
  {
   "cell_type": "code",
   "execution_count": 2,
   "metadata": {},
   "outputs": [],
   "source": [
    "from pynq.lib.arduino import Grove_TH02\n",
    "from pynq.lib.arduino import ARDUINO_GROVE_I2C"
   ]
  },
  {
   "cell_type": "markdown",
   "metadata": {},
   "source": [
    "### Plugging in your TH02 Sensor\n",
    "\n",
    "This sensor uses the Arduino shield to communicate with your PYNQ Board. Attach the Arduino shield to the top of your PYNQ Board. Then, plug in the TH02 Sensor to one of the ports labeled I2C on the Arduino shield.\n",
    "\n",
    "![grove_adaptor](https://cdn10.bigcommerce.com/s-7gavg/products/531/images/4194/PYNQ_Shield_-_Oblique_-_600__81639.1473444236.1280.1280.png?c=2)"
   ]
  },
  {
   "cell_type": "markdown",
   "metadata": {},
   "source": [
    "### Initialize the Temperature Sensor\n",
    "\n",
    "We create an variable called \"th02\" that represents the sensor. From this object we can call functions that retrieve data from the sensor."
   ]
  },
  {
   "cell_type": "code",
   "execution_count": 3,
   "metadata": {},
   "outputs": [],
   "source": [
    "th02 = Grove_TH02(base.ARDUINO,ARDUINO_GROVE_I2C)"
   ]
  },
  {
   "cell_type": "markdown",
   "metadata": {},
   "source": [
    "### Read the Temperature and Humidity\n",
    "Calling the function read() returns a tuple (two values separated by a comma). The first value is temperature and the second value is humidity."
   ]
  },
  {
   "cell_type": "code",
   "execution_count": 4,
   "metadata": {},
   "outputs": [
    {
     "name": "stdout",
     "output_type": "stream",
     "text": [
      "The temperature is 28.21875 degrees celsius and the relative humidity is 40.0625 %\n"
     ]
    }
   ],
   "source": [
    "temp_c, humidity = th02.read()\n",
    "print('The temperature is {} degrees celsius and the relative humidity is {} %'.format(temp_c, humidity))"
   ]
  },
  {
   "cell_type": "markdown",
   "metadata": {},
   "source": [
    "<a id='ath'></a>"
   ]
  },
  {
   "cell_type": "markdown",
   "metadata": {},
   "source": [
    "# Display the Data to the LED Bar\n",
    "\n",
    "## Connecting the LED Bar\n",
    "\n",
    "Plug the LED bar into the port labeled G1 on your PMOD to Grove Adaptor. Then plug the PMOD to Grove adaptor into the port labeled PMODB on your PYNQ-Z2 Board"
   ]
  },
  {
   "cell_type": "markdown",
   "metadata": {},
   "source": [
    "### Setup\n",
    "\n",
    "When the hardware is connected, run the following code to tell the PYNQ Board how you connected everything. If you plugged into a port besides G1, such as G2, then you will need to import `PMOD_GROVE_G2` instead."
   ]
  },
  {
   "cell_type": "code",
   "execution_count": 5,
   "metadata": {},
   "outputs": [],
   "source": [
    "from pynq.lib.pmod import Grove_LEDbar\n",
    "from pynq.lib.pmod import PMOD_GROVE_G1\n",
    "\n",
    "ledbar = Grove_LEDbar(base.PMODB, PMOD_GROVE_G1)"
   ]
  },
  {
   "cell_type": "markdown",
   "metadata": {},
   "source": [
    "### Reset the LED Bar\n",
    "\n",
    "The default state of the LED could be all sorts of things. Let's turn it fully of so we have somewhere to work from."
   ]
  },
  {
   "cell_type": "code",
   "execution_count": 6,
   "metadata": {},
   "outputs": [],
   "source": [
    "# Turn the LED bar off\n",
    "ledbar.reset()"
   ]
  },
  {
   "cell_type": "markdown",
   "metadata": {},
   "source": [
    "### Decide on Your Temperature Scale\n",
    "\n",
    "We want to make a visual thermometer that displays the temperature across a range that we care about. Perhaps this is simply comfortable room temperature (somewhere between 60 and 80 degrees fahrenheit), or it's the temperature of industrial equipment that cannot get above 150 degrees fahrenheit. What we will do next is establish this range and \"map\" it to the 10 bars on the LED indicator, with the red being the highest end of the range and the green being the lowest. For this example, lets the temperature we might find in a house in Colorado, 60 to 80 degrees fahrenheit, or about 15 to 25 degrees celsius (remember, our sensors read celsius, so make sure to convert when necessary)"
   ]
  },
  {
   "cell_type": "code",
   "execution_count": 16,
   "metadata": {},
   "outputs": [],
   "source": [
    "max_temp = 25\n",
    "min_temp = 15\n",
    "temp_range = max_temp - min_temp"
   ]
  },
  {
   "cell_type": "markdown",
   "metadata": {},
   "source": [
    "We should consider \"edge cases\" where our temperature falls above or below our range. These are always good to check before we proceed. In this situation, we will illuminate all LEDs if the temperature is above the range, and 1 LED if it is below the range.\n",
    "\n",
    "Once we have ruled out edge cases, we can deal with the case where our temperature falls within our allotted range. Because there are 10 bars, we can only only display the temperature in tenths of our range. Knowing what our range is, we can calculate a number between 0 and 10 to represent where within the range we fall. Note that we multiply by 10 and round to the nearest whole number to make sure we pass an integer between 0 and 10 to the function up_to().\n",
    "\n",
    "Because our LED bar speaks in binary, We are going to use a function \"up_to\" which produces the binary value required to light up the bars \"up to\" a certain index on the led bar, given that index. This is covered more in depth in the [LED Bar notebook](../bootcamp_sessions/3_led_bar.ipynb)."
   ]
  },
  {
   "cell_type": "code",
   "execution_count": 17,
   "metadata": {},
   "outputs": [],
   "source": [
    "def up_to(index):\n",
    "    return ~(2**(10 - index) - 1)"
   ]
  },
  {
   "cell_type": "code",
   "execution_count": 18,
   "metadata": {},
   "outputs": [],
   "source": [
    "# if temperature is above our range of measurement\n",
    "if temp_c > max_temp:\n",
    "    ledbar.write_binary(up_to(10))\n",
    "# if temperature is below our range of measurement\n",
    "elif temp_c < min_temp:\n",
    "    ledbar.write_binary(up_to(0))\n",
    "# otherwise is falls within our range\n",
    "else:\n",
    "    temp_index = int(round(((temp_c - min_temp)/temp_range)*10))\n",
    "    ledbar.write_binary(up_to(temp_index))"
   ]
  }
 ],
 "metadata": {
  "kernelspec": {
   "display_name": "Python 3",
   "language": "python",
   "name": "python3"
  },
  "language_info": {
   "codemirror_mode": {
    "name": "ipython",
    "version": 3
   },
   "file_extension": ".py",
   "mimetype": "text/x-python",
   "name": "python",
   "nbconvert_exporter": "python",
   "pygments_lexer": "ipython3",
   "version": "3.6.5"
  }
 },
 "nbformat": 4,
 "nbformat_minor": 2
}
